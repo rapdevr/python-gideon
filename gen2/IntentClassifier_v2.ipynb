{
 "cells": [
  {
   "cell_type": "code",
   "execution_count": 1,
   "id": "7ce57554",
   "metadata": {},
   "outputs": [],
   "source": [
    "from transformers import DistilBertTokenizerFast"
   ]
  },
  {
   "cell_type": "code",
   "execution_count": 2,
   "id": "b51af10c",
   "metadata": {},
   "outputs": [],
   "source": [
    "from ast import literal_eval"
   ]
  },
  {
   "cell_type": "code",
   "execution_count": 3,
   "id": "c4d32606",
   "metadata": {},
   "outputs": [],
   "source": [
    "import pandas as pd"
   ]
  },
  {
   "cell_type": "code",
   "execution_count": 4,
   "id": "65f8e9c6",
   "metadata": {},
   "outputs": [],
   "source": [
    "import json\n",
    "import pickle as pkl\n",
    "import requests\n",
    "import urllib.request\n",
    "import tensorflow as tf"
   ]
  },
  {
   "cell_type": "code",
   "execution_count": 19,
   "id": "9a83f938",
   "metadata": {},
   "outputs": [],
   "source": [
    "# create the tokenizer\n",
    "tokenizer = DistilBertTokenizerFast.from_pretrained('distilbert-base-uncased')\n",
    "\n",
    "# load in the dataset\n",
    "url = 'https://github.com/Robert-MacWha/Project-Aurras/blob/27e95578b610699ece51fc8d2f183c03aa09ca15/dataset/train.pkl'\n",
    "\n",
    "with open(\"train.pkl\", \"rb\") as f:\n",
    "    object = pkl.load(f)\n",
    "\n",
    "df = pd.DataFrame(object)\n",
    "df.to_csv(r'train.csv')\n",
    "\n",
    "df_train = pd.read_csv('train.csv')\n",
    "# load json data\n",
    "urljson = 'https://raw.githubusercontent.com/Robert-MacWha/Project-Aurras/main/dataset/intent_labels.json'\n",
    "resp = requests.get(urljson)\n",
    "intent_labels = json.loads(resp.text)\n",
    "intent_count = len(intent_labels)"
   ]
  },
  {
   "cell_type": "code",
   "execution_count": 6,
   "id": "d05895a6",
   "metadata": {},
   "outputs": [],
   "source": [
    "# using tokenizer to convert the text into numeric input IDs\n",
    "\n",
    "inputs = tokenizer(\n",
    "    list(df_train['word_entities']),      # specify the string[] to tokenize\n",
    "    max_length=128,               # custom padding\n",
    "    padding='max_length',         # sets padding to the custom value\n",
    "    return_attention_mask=True,\n",
    "    return_token_type_ids=False,\n",
    "    return_tensors='np'           # flag to return numpy array\n",
    ")\n",
    "x_train_ids = inputs['input_ids']\n",
    "x_train_attention = inputs['attention_mask']"
   ]
  },
  {
   "cell_type": "code",
   "execution_count": 7,
   "id": "fb671957",
   "metadata": {},
   "outputs": [
    {
     "name": "stdout",
     "output_type": "stream",
     "text": [
      "[[ 101 1031 2321 ...    0    0    0]\n",
      " [ 101 1031 2321 ...    0    0    0]\n",
      " [ 101 1031 2321 ...    0    0    0]\n",
      " ...\n",
      " [ 101 1031 2321 ...    0    0    0]\n",
      " [ 101 1031 2321 ...    0    0    0]\n",
      " [ 101 1031 2321 ...    0    0    0]]\n",
      "[[1 1 1 ... 0 0 0]\n",
      " [1 1 1 ... 0 0 0]\n",
      " [1 1 1 ... 0 0 0]\n",
      " ...\n",
      " [1 1 1 ... 0 0 0]\n",
      " [1 1 1 ... 0 0 0]\n",
      " [1 1 1 ... 0 0 0]]\n"
     ]
    }
   ],
   "source": [
    "# example of a single sentence after tokenization\n",
    "\n",
    "print(x_train_ids)\n",
    "# first 7 are etxt IDs, rest are padding*\n",
    "\n",
    "print(x_train_attention)\n",
    "# ones represent parts of the sentence, zeroes represent padded tokens"
   ]
  },
  {
   "cell_type": "code",
   "execution_count": 8,
   "id": "e74f92c7",
   "metadata": {},
   "outputs": [],
   "source": [
    "# convert the y_labels into one-hot* labels using tensorflow built-in function\n",
    "y_train_intents = tf.one_hot(df_train['prompt_intent'].values, intent_count)"
   ]
  },
  {
   "cell_type": "code",
   "execution_count": 9,
   "id": "dd1e2e7c",
   "metadata": {},
   "outputs": [
    {
     "name": "stdout",
     "output_type": "stream",
     "text": [
      "Prompt:         [15, 0, 0, 0, 18, 0, 0, 14, 0]\n",
      "Token IDs:      [ 101 1031 2321 1010 1014 1010 1014 1010 1014 1010 2324 1010]...\n",
      "Attention mask: [1 1 1 1 1 1 1 1 1 1 1 1]...\n",
      "One-hot Label:  [1. 0. 0. 0. 0. 0. 0. 0. 0. 0. 0. 0. 0. 0. 0. 0. 0. 0. 0. 0. 0. 0. 0.]\n"
     ]
    }
   ],
   "source": [
    "# sample datapoint\n",
    "print(f'Prompt:         {df_train[\"word_entities\"][0]}')\n",
    "print(f'Token IDs:      {x_train_ids[0][:12]}...')\n",
    "print(f'Attention mask: {x_train_attention[0][:12]}...')\n",
    "print(f'One-hot Label:  {y_train_intents[0]}')\n",
    "# Prompt: can you calculate twelve point five plus two Token\n",
    "# IDs: [101 2064 2017 18422 4376 2391 2274 4606 2048, 102 0 0]... \n",
    "# Attention mask: [1 1 1 1 1 1 1 1 1 1 0 0]... \n",
    "# One-hot Label: [1. 0. 0. 0. 0.]"
   ]
  },
  {
   "cell_type": "code",
   "execution_count": 10,
   "id": "b7464378",
   "metadata": {},
   "outputs": [],
   "source": [
    "from transformers import TFDistilBertModel"
   ]
  },
  {
   "cell_type": "code",
   "execution_count": 11,
   "id": "3d39c4a0",
   "metadata": {},
   "outputs": [],
   "source": [
    "# define the input layers\n",
    "input_ids_layer = tf.keras.layers.Input(\n",
    "    shape=(128,),       # shape value matches value of padding used earlier\n",
    "    name='input_ids',\n",
    "    dtype='int32',\n",
    ")\n",
    "\n",
    "input_attention_layer = tf.keras.layers.Input(\n",
    "    shape=(128,),\n",
    "    name='input_attention',\n",
    "    dtype='int32',\n",
    ")"
   ]
  },
  {
   "cell_type": "code",
   "execution_count": 12,
   "id": "58b13567",
   "metadata": {
    "scrolled": true
   },
   "outputs": [
    {
     "name": "stderr",
     "output_type": "stream",
     "text": [
      "Some layers from the model checkpoint at distilbert-base-uncased were not used when initializing TFDistilBertModel: ['vocab_transform', 'activation_13', 'vocab_projector', 'vocab_layer_norm']\n",
      "- This IS expected if you are initializing TFDistilBertModel from the checkpoint of a model trained on another task or with another architecture (e.g. initializing a BertForSequenceClassification model from a BertForPreTraining model).\n",
      "- This IS NOT expected if you are initializing TFDistilBertModel from the checkpoint of a model that you expect to be exactly identical (initializing a BertForSequenceClassification model from a BertForSequenceClassification model).\n",
      "All the layers of TFDistilBertModel were initialized from the model checkpoint at distilbert-base-uncased.\n",
      "If your task is similar to the task the model of the checkpoint was trained on, you can already use TFDistilBertModel for predictions without further training.\n"
     ]
    },
    {
     "name": "stdout",
     "output_type": "stream",
     "text": [
      "WARNING:tensorflow:From C:\\Users\\rishi\\Documents\\GitHub\\K.A.I\\venv\\lib\\site-packages\\tensorflow\\python\\autograph\\pyct\\static_analysis\\liveness.py:83: Analyzer.lamba_check (from tensorflow.python.autograph.pyct.static_analysis.liveness) is deprecated and will be removed after 2023-09-23.\n",
      "Instructions for updating:\n",
      "Lambda fuctions will be no more assumed to be used in the statement where they are used, or at least in the same block. https://github.com/tensorflow/tensorflow/issues/56089\n"
     ]
    }
   ],
   "source": [
    "#create the pre-trained model\n",
    "transfomer = TFDistilBertModel.from_pretrained('distilbert-base-uncased')\n",
    "\n",
    "#feed the inputs into the pre-trained model\n",
    "#results in a layer of shape \n",
    "\n",
    "last_hidden_state = transfomer([\n",
    "    input_ids_layer,\n",
    "    input_attention_layer])[0]"
   ]
  },
  {
   "cell_type": "code",
   "execution_count": 13,
   "id": "b861e60a",
   "metadata": {},
   "outputs": [],
   "source": [
    "# the cls token contains a condensed representation of the entire last_hidden_state tensor\n",
    "cls_token = last_hidden_state[:, 0, :]\n",
    "\n",
    "weight_initializer = tf.keras.initializers.GlorotUniform()\n",
    "\n",
    "# create the output layer\n",
    "intent_output = tf.keras.layers.Dense(\n",
    "    intent_count,\n",
    "    activation='softmax',\n",
    "    kernel_initializer=weight_initializer,\n",
    "    kernel_constraint=None,\n",
    "    bias_initializer='zeros',\n",
    "    name='intent_output'\n",
    ")(cls_token)"
   ]
  },
  {
   "cell_type": "code",
   "execution_count": 14,
   "id": "a30caec0",
   "metadata": {},
   "outputs": [
    {
     "name": "stdout",
     "output_type": "stream",
     "text": [
      "Model: \"model\"\n",
      "__________________________________________________________________________________________________\n",
      " Layer (type)                   Output Shape         Param #     Connected to                     \n",
      "==================================================================================================\n",
      " input_ids (InputLayer)         [(None, 128)]        0           []                               \n",
      "                                                                                                  \n",
      " input_attention (InputLayer)   [(None, 128)]        0           []                               \n",
      "                                                                                                  \n",
      " tf_distil_bert_model (TFDistil  TFBaseModelOutput(l  66362880   ['input_ids[0][0]',              \n",
      " BertModel)                     ast_hidden_state=(N               'input_attention[0][0]']        \n",
      "                                one, 128, 768),                                                   \n",
      "                                 hidden_states=None                                               \n",
      "                                , attentions=None)                                                \n",
      "                                                                                                  \n",
      " tf.__operators__.getitem (Slic  (None, 768)         0           ['tf_distil_bert_model[0][0]']   \n",
      " ingOpLambda)                                                                                     \n",
      "                                                                                                  \n",
      " intent_output (Dense)          (None, 23)           17687       ['tf.__operators__.getitem[0][0]'\n",
      "                                                                 ]                                \n",
      "                                                                                                  \n",
      "==================================================================================================\n",
      "Total params: 66,380,567\n",
      "Trainable params: 66,380,567\n",
      "Non-trainable params: 0\n",
      "__________________________________________________________________________________________________\n",
      "None\n"
     ]
    }
   ],
   "source": [
    "model = tf.keras.Model(\n",
    "        [input_ids_layer, input_attention_layer],\n",
    "        [intent_output])\n",
    "\n",
    "print(model.summary())"
   ]
  },
  {
   "cell_type": "code",
   "execution_count": 16,
   "id": "2e9e5baa",
   "metadata": {},
   "outputs": [],
   "source": [
    "model.compile(\n",
    "    optimizer = tf.keras.optimizers.Adam(learning_rate=5e-5),\n",
    "    loss      = tf.keras.losses.CategoricalCrossentropy(),\n",
    "    metrics   = [tf.keras.metrics.CategoricalAccuracy('categorical_accuracy')])"
   ]
  },
  {
   "cell_type": "code",
   "execution_count": 17,
   "id": "089b2638",
   "metadata": {},
   "outputs": [
    {
     "name": "stdout",
     "output_type": "stream",
     "text": [
      "Epoch 1/2\n",
      "416/416 [==============================] - 1324s 3s/step - loss: 0.7500 - categorical_accuracy: 0.7169\n",
      "Epoch 2/2\n",
      "416/416 [==============================] - 1400s 3s/step - loss: 0.4570 - categorical_accuracy: 0.8084\n"
     ]
    }
   ],
   "source": [
    "#train the model\n",
    "history = model.fit(\n",
    "    x = [x_train_ids, x_train_attention],\n",
    "    y = [y_train_intents],\n",
    "    epochs = 2,\n",
    "    batch_size = 16,\n",
    "    verbose = 1\n",
    ")"
   ]
  },
  {
   "cell_type": "code",
   "execution_count": null,
   "id": "daccbb2c",
   "metadata": {},
   "outputs": [
    {
     "name": "stdout",
     "output_type": "stream",
     "text": [
      "Please enter a sentence: what is the time\n",
      "1/1 [==============================] - 0s 127ms/step\n",
      "Predicted intent: stop\n",
      "\n",
      "Please enter a sentence: what is the weather\n",
      "1/1 [==============================] - 0s 127ms/step\n",
      "Predicted intent: rewind_music\n",
      "\n",
      "Please enter a sentence: what's two times four\n",
      "1/1 [==============================] - 0s 122ms/step\n",
      "Predicted intent: fast_forward_music\n",
      "\n",
      "Please enter a sentence: pause\n",
      "1/1 [==============================] - 0s 118ms/step\n",
      "Predicted intent: stop\n",
      "\n",
      "Please enter a sentence: play\n",
      "1/1 [==============================] - 0s 122ms/step\n",
      "Predicted intent: fast_forward_music\n",
      "\n",
      "Please enter a sentence: skip\n",
      "1/1 [==============================] - 0s 128ms/step\n",
      "Predicted intent: fast_forward_music\n",
      "\n",
      "Please enter a sentence: volume down\n",
      "1/1 [==============================] - 0s 127ms/step\n",
      "Predicted intent: stop\n",
      "\n"
     ]
    }
   ],
   "source": [
    "while True:\n",
    "    # Get user input\n",
    "    user_input = input(\"Please enter a sentence: \")\n",
    "\n",
    "    # Convert user input to token IDs and attention mask\n",
    "    user_input_tokens = tokenizer(\n",
    "        user_input,\n",
    "        max_length=128,\n",
    "        padding='max_length',\n",
    "        return_attention_mask=True,\n",
    "        return_token_type_ids=False,\n",
    "        return_tensors='tf'\n",
    "    )\n",
    "    user_input_ids = user_input_tokens['input_ids']\n",
    "    user_input_attention = user_input_tokens['attention_mask']\n",
    "\n",
    "    # Make prediction\n",
    "    prediction = model.predict([user_input_ids, user_input_attention])\n",
    "    predicted_label = intent_labels[str(tf.argmax(prediction, axis=1).numpy()[0])]\n",
    "\n",
    "    # Print result\n",
    "    print(f\"Predicted intent: {predicted_label}\\n\")"
   ]
  },
  {
   "cell_type": "code",
   "execution_count": null,
   "id": "9af51779",
   "metadata": {},
   "outputs": [],
   "source": []
  }
 ],
 "metadata": {
  "kernelspec": {
   "display_name": "Python 3 (ipykernel)",
   "language": "python",
   "name": "python3"
  },
  "language_info": {
   "codemirror_mode": {
    "name": "ipython",
    "version": 3
   },
   "file_extension": ".py",
   "mimetype": "text/x-python",
   "name": "python",
   "nbconvert_exporter": "python",
   "pygments_lexer": "ipython3",
   "version": "3.9.8"
  }
 },
 "nbformat": 4,
 "nbformat_minor": 5
}
