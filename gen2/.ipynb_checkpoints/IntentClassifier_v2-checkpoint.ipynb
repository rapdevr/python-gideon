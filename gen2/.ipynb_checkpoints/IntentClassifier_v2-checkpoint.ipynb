{
 "cells": [
  {
   "cell_type": "code",
   "execution_count": 2,
   "id": "7ce57554",
   "metadata": {},
   "outputs": [
    {
     "name": "stderr",
     "output_type": "stream",
     "text": [
      "None of PyTorch, TensorFlow >= 2.0, or Flax have been found. Models won't be available and only tokenizers, configuration and file/data utilities can be used.\n"
     ]
    }
   ],
   "source": [
    "from transformers import DistilBertTokenizerFast"
   ]
  },
  {
   "cell_type": "code",
   "execution_count": 3,
   "id": "b51af10c",
   "metadata": {},
   "outputs": [],
   "source": [
    "from ast import literal_eval"
   ]
  },
  {
   "cell_type": "code",
   "execution_count": 5,
   "id": "c4d32606",
   "metadata": {},
   "outputs": [],
   "source": [
    "import pandas as pd"
   ]
  },
  {
   "cell_type": "code",
   "execution_count": 61,
   "id": "65f8e9c6",
   "metadata": {},
   "outputs": [],
   "source": [
    "import json\n",
    "import pickle as pkl\n",
    "import requests\n",
    "import urllib.request\n",
    "import tensorflow as tf"
   ]
  },
  {
   "cell_type": "code",
   "execution_count": 52,
   "id": "9a83f938",
   "metadata": {},
   "outputs": [],
   "source": [
    "# create the tokenizer\n",
    "tokenizer = DistilBertTokenizerFast.from_pretrained('distilbert-base-uncased')\n",
    "\n",
    "# load in the dataset\n",
    "url = 'https://github.com/Robert-MacWha/Project-Aurras/blob/27e95578b610699ece51fc8d2f183c03aa09ca15/dataset/train.pkl'\n",
    "\n",
    "with open(\"train.pkl\", \"rb\") as f:\n",
    "    object = pkl.load(f)\n",
    "\n",
    "df = pd.DataFrame(object)\n",
    "df.to_csv(r'train.csv')\n",
    "\n",
    "df_train = pd.read_csv('train.csv')\n",
    "# load json data\n",
    "urljson = 'https://raw.githubusercontent.com/Robert-MacWha/Project-Aurras/main/dataset/intent_labels.json'\n",
    "resp = requests.get(urljson)\n",
    "intent_labels = json.loads(resp.text)\n",
    "intent_count = len(intent_labels)"
   ]
  },
  {
   "cell_type": "code",
   "execution_count": 56,
   "id": "d05895a6",
   "metadata": {},
   "outputs": [],
   "source": [
    "# using tokenizer to convert the text into numeric input IDs\n",
    "\n",
    "inputs = tokenizer(\n",
    "    list(df_train['word_entities']),      # specify the string[] to tokenize\n",
    "    max_length=128,               # custom padding\n",
    "    padding='max_length',         # sets padding to the custom value\n",
    "    return_attention_mask=True,\n",
    "    return_token_type_ids=False,\n",
    "    return_tensors='np'           # flag to return numpy array\n",
    ")\n",
    "x_train_ids = inputs['input_ids']\n",
    "x_train_attention = inputs['attention_mask']"
   ]
  },
  {
   "cell_type": "code",
   "execution_count": 58,
   "id": "fb671957",
   "metadata": {},
   "outputs": [
    {
     "name": "stdout",
     "output_type": "stream",
     "text": [
      "[[ 101 1031 2321 ...    0    0    0]\n",
      " [ 101 1031 2321 ...    0    0    0]\n",
      " [ 101 1031 2321 ...    0    0    0]\n",
      " ...\n",
      " [ 101 1031 2321 ...    0    0    0]\n",
      " [ 101 1031 2321 ...    0    0    0]\n",
      " [ 101 1031 2321 ...    0    0    0]]\n",
      "[[1 1 1 ... 0 0 0]\n",
      " [1 1 1 ... 0 0 0]\n",
      " [1 1 1 ... 0 0 0]\n",
      " ...\n",
      " [1 1 1 ... 0 0 0]\n",
      " [1 1 1 ... 0 0 0]\n",
      " [1 1 1 ... 0 0 0]]\n"
     ]
    }
   ],
   "source": [
    "# example of a single sentence after tokenization\n",
    "\n",
    "print(x_train_ids)\n",
    "# first 7 are etxt IDs, rest are padding*\n",
    "\n",
    "print(x_train_attention)\n",
    "# ones represent parts of the sentence, zeroes represent padded tokens"
   ]
  },
  {
   "cell_type": "code",
   "execution_count": 68,
   "id": "e74f92c7",
   "metadata": {},
   "outputs": [],
   "source": [
    "# convert the y_labels into one-hot* labels using tensorflow built-in function\n",
    "y_train_intents = tf.one_hot(df_train['prompt_intent'].values, intent_count)"
   ]
  },
  {
   "cell_type": "code",
   "execution_count": 70,
   "id": "dd1e2e7c",
   "metadata": {},
   "outputs": [
    {
     "name": "stdout",
     "output_type": "stream",
     "text": [
      "Prompt:         [15, 0, 0, 0, 18, 0, 0, 14, 0]\n",
      "Token IDs:      [ 101 1031 2321 1010 1014 1010 1014 1010 1014 1010 2324 1010]...\n",
      "Attention mask: [1 1 1 1 1 1 1 1 1 1 1 1]...\n",
      "One-hot Label:  [1. 0. 0. 0. 0. 0. 0. 0. 0. 0. 0. 0. 0. 0. 0. 0. 0. 0. 0. 0. 0. 0. 0.]\n"
     ]
    }
   ],
   "source": [
    "# sample datapoint\n",
    "print(f'Prompt:         {df_train[\"word_entities\"][0]}')\n",
    "print(f'Token IDs:      {x_train_ids[0][:12]}...')\n",
    "print(f'Attention mask: {x_train_attention[0][:12]}...')\n",
    "print(f'One-hot Label:  {y_train_intents[0]}')\n",
    "# Prompt: can you calculate twelve point five plus two Token\n",
    "# IDs: [101 2064 2017 18422 4376 2391 2274 4606 2048, 102 0 0]... \n",
    "# Attention mask: [1 1 1 1 1 1 1 1 1 1 0 0]... \n",
    "# One-hot Label: [1. 0. 0. 0. 0.]"
   ]
  },
  {
   "cell_type": "code",
   "execution_count": 71,
   "id": "b7464378",
   "metadata": {},
   "outputs": [],
   "source": [
    "from transformers import TFDistilBertModel"
   ]
  },
  {
   "cell_type": "code",
   "execution_count": 73,
   "id": "3d39c4a0",
   "metadata": {},
   "outputs": [],
   "source": [
    "# define the input layers\n",
    "input_ids_layer = tf.keras.layers.Input(\n",
    "    shape=(128,),       # shape value matches value of padding used earlier\n",
    "    name='input_attention',\n",
    "    dtype='int32',\n",
    ")\n",
    "\n",
    "input_attention_layer = tf.keras.layers.Input(\n",
    "    shape=(128,),\n",
    "    name='input_attention',\n",
    "    dtype='int32',\n",
    ")"
   ]
  },
  {
   "cell_type": "code",
   "execution_count": 74,
   "id": "58b13567",
   "metadata": {},
   "outputs": [
    {
     "ename": "ImportError",
     "evalue": "\nTFDistilBertModel requires the TensorFlow library but it was not found in your environment. Checkout the instructions on the\ninstallation page: https://www.tensorflow.org/install and follow the ones that match your environment.\nPlease note that you may need to restart your runtime after installation.\n",
     "output_type": "error",
     "traceback": [
      "\u001b[1;31m---------------------------------------------------------------------------\u001b[0m",
      "\u001b[1;31mImportError\u001b[0m                               Traceback (most recent call last)",
      "Cell \u001b[1;32mIn[74], line 2\u001b[0m\n\u001b[0;32m      1\u001b[0m \u001b[38;5;66;03m#create the pre-trained model\u001b[39;00m\n\u001b[1;32m----> 2\u001b[0m transfomer \u001b[38;5;241m=\u001b[39m \u001b[43mTFDistilBertModel\u001b[49m\u001b[38;5;241;43m.\u001b[39;49m\u001b[43mfrom_pretrained\u001b[49m(\u001b[38;5;124m'\u001b[39m\u001b[38;5;124mdistilber-base-uncased\u001b[39m\u001b[38;5;124m'\u001b[39m)\n\u001b[0;32m      4\u001b[0m \u001b[38;5;66;03m#feed the inputs into the pre-trained model\u001b[39;00m\n\u001b[0;32m      5\u001b[0m \u001b[38;5;66;03m#results in a layer of shape \u001b[39;00m\n\u001b[0;32m      7\u001b[0m last_hidden_state \u001b[38;5;241m=\u001b[39m transfomer([\n\u001b[0;32m      8\u001b[0m     input_ids_layer,\n\u001b[0;32m      9\u001b[0m     input_attention_layer])[\u001b[38;5;241m0\u001b[39m]\n",
      "File \u001b[1;32m~\\Documents\\GitHub\\K.A.I\\venv\\lib\\site-packages\\transformers\\utils\\import_utils.py:1050\u001b[0m, in \u001b[0;36mDummyObject.__getattribute__\u001b[1;34m(cls, key)\u001b[0m\n\u001b[0;32m   1048\u001b[0m \u001b[38;5;28;01mif\u001b[39;00m key\u001b[38;5;241m.\u001b[39mstartswith(\u001b[38;5;124m\"\u001b[39m\u001b[38;5;124m_\u001b[39m\u001b[38;5;124m\"\u001b[39m) \u001b[38;5;129;01mand\u001b[39;00m key \u001b[38;5;241m!=\u001b[39m \u001b[38;5;124m\"\u001b[39m\u001b[38;5;124m_from_config\u001b[39m\u001b[38;5;124m\"\u001b[39m:\n\u001b[0;32m   1049\u001b[0m     \u001b[38;5;28;01mreturn\u001b[39;00m \u001b[38;5;28msuper\u001b[39m()\u001b[38;5;241m.\u001b[39m\u001b[38;5;21m__getattribute__\u001b[39m(key)\n\u001b[1;32m-> 1050\u001b[0m \u001b[43mrequires_backends\u001b[49m\u001b[43m(\u001b[49m\u001b[38;5;28;43mcls\u001b[39;49m\u001b[43m,\u001b[49m\u001b[43m \u001b[49m\u001b[38;5;28;43mcls\u001b[39;49m\u001b[38;5;241;43m.\u001b[39;49m\u001b[43m_backends\u001b[49m\u001b[43m)\u001b[49m\n",
      "File \u001b[1;32m~\\Documents\\GitHub\\K.A.I\\venv\\lib\\site-packages\\transformers\\utils\\import_utils.py:1038\u001b[0m, in \u001b[0;36mrequires_backends\u001b[1;34m(obj, backends)\u001b[0m\n\u001b[0;32m   1036\u001b[0m failed \u001b[38;5;241m=\u001b[39m [msg\u001b[38;5;241m.\u001b[39mformat(name) \u001b[38;5;28;01mfor\u001b[39;00m available, msg \u001b[38;5;129;01min\u001b[39;00m checks \u001b[38;5;28;01mif\u001b[39;00m \u001b[38;5;129;01mnot\u001b[39;00m available()]\n\u001b[0;32m   1037\u001b[0m \u001b[38;5;28;01mif\u001b[39;00m failed:\n\u001b[1;32m-> 1038\u001b[0m     \u001b[38;5;28;01mraise\u001b[39;00m \u001b[38;5;167;01mImportError\u001b[39;00m(\u001b[38;5;124m\"\u001b[39m\u001b[38;5;124m\"\u001b[39m\u001b[38;5;241m.\u001b[39mjoin(failed))\n",
      "\u001b[1;31mImportError\u001b[0m: \nTFDistilBertModel requires the TensorFlow library but it was not found in your environment. Checkout the instructions on the\ninstallation page: https://www.tensorflow.org/install and follow the ones that match your environment.\nPlease note that you may need to restart your runtime after installation.\n"
     ]
    }
   ],
   "source": [
    "#create the pre-trained model\n",
    "transfomer = TFDistilBertModel.from_pretrained('distilber-base-uncased')\n",
    "\n",
    "#feed the inputs into the pre-trained model\n",
    "#results in a layer of shape \n",
    "\n",
    "last_hidden_state = transfomer([\n",
    "    input_ids_layer,\n",
    "    input_attention_layer])[0]"
   ]
  },
  {
   "cell_type": "code",
   "execution_count": null,
   "id": "b861e60a",
   "metadata": {},
   "outputs": [],
   "source": []
  }
 ],
 "metadata": {
  "kernelspec": {
   "display_name": "Python 3 (ipykernel)",
   "language": "python",
   "name": "python3"
  },
  "language_info": {
   "codemirror_mode": {
    "name": "ipython",
    "version": 3
   },
   "file_extension": ".py",
   "mimetype": "text/x-python",
   "name": "python",
   "nbconvert_exporter": "python",
   "pygments_lexer": "ipython3",
   "version": "3.9.8"
  }
 },
 "nbformat": 4,
 "nbformat_minor": 5
}
