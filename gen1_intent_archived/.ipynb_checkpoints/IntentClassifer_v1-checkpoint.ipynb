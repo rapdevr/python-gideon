{
 "cells": [
  {
   "cell_type": "code",
   "execution_count": 1,
   "id": "f988c8ce-1b68-4f1c-9270-94d26b2aef36",
   "metadata": {},
   "outputs": [
    {
     "name": "stdout",
     "output_type": "stream",
     "text": [
      "100% [......................................................................] 347116733 / 347116733"
     ]
    },
    {
     "data": {
      "text/plain": [
       "'glove.6B.100d.txt'"
      ]
     },
     "execution_count": 1,
     "metadata": {},
     "output_type": "execute_result"
    }
   ],
   "source": [
    "import wget\n",
    "url = 'https://raw.githubusercontent.com/clinc/oos-eval/master/data/data_full.json'\n",
    "wget.download(url)\n",
    "\n",
    "url = 'https://www.dropbox.com/s/a247ju2qsczh0be/glove.6B.100d.txt?dl=1'\n",
    "wget.download(url)"
   ]
  },
  {
   "cell_type": "code",
   "execution_count": 2,
   "id": "4af11a0c-8c36-4c1c-82bb-bfec5c276d37",
   "metadata": {},
   "outputs": [],
   "source": [
    "import numpy as np\n",
    "import json"
   ]
  },
  {
   "cell_type": "code",
   "execution_count": 3,
   "id": "c2872213-b10f-44dc-8aa6-bf3895b5d5cc",
   "metadata": {},
   "outputs": [],
   "source": [
    "with open('data_full.json') as file:\n",
    "    data = json.loads(file.read())\n",
    "    \n",
    "val_oos = np.array(data['oos_val'])\n",
    "train_oos = np.array(data['oos_train'])\n",
    "test_oos = np.array(data['oos_test'])\n",
    "\n",
    "val_others = np.array(data['val'])\n",
    "train_others = np.array(data['train'])\n",
    "test_others = np.array(data['test'])\n",
    "\n",
    "val = np.concatenate([val_oos,val_others])\n",
    "train = np.concatenate([train_oos,train_others])\n",
    "test = np.concatenate([test_oos,test_others])"
   ]
  },
  {
   "cell_type": "code",
   "execution_count": 4,
   "id": "380e8498-80ae-43c6-a158-be514046c499",
   "metadata": {},
   "outputs": [],
   "source": [
    "data = np.concatenate([train,test,val])\n",
    "data = data.T\n",
    "\n",
    "text = data[0]\n",
    "labels = data[1]"
   ]
  },
  {
   "cell_type": "code",
   "execution_count": 5,
   "id": "911a7a96-7fc1-4efa-840e-667b5fb3191f",
   "metadata": {},
   "outputs": [],
   "source": [
    "from sklearn.model_selection import train_test_split"
   ]
  },
  {
   "cell_type": "code",
   "execution_count": 6,
   "id": "1d3e79dc-9542-4e95-8ad7-7ae9b5350845",
   "metadata": {},
   "outputs": [],
   "source": [
    "from sklearn.model_selection import train_test_split"
   ]
  },
  {
   "cell_type": "code",
   "execution_count": 7,
   "id": "86f0f8fe-e599-4db7-8545-1435eee9fc37",
   "metadata": {},
   "outputs": [],
   "source": [
    "train_txt,test_txt,train_label,test_labels = train_test_split(text,labels,test_size = 0.3)"
   ]
  },
  {
   "cell_type": "code",
   "execution_count": 8,
   "id": "9c153b53-5354-45d4-95c1-385a0e16521a",
   "metadata": {},
   "outputs": [
    {
     "name": "stderr",
     "output_type": "stream",
     "text": [
      "c:\\users\\rishi\\documents\\github\\k.a.i\\venv\\lib\\site-packages\\tensorflow\\python\\framework\\dtypes.py:493: FutureWarning: Passing (type, 1) or '1type' as a synonym of type is deprecated; in a future version of numpy, it will be understood as (type, (1,)) / '(1,)type'.\n",
      "  _np_qint8 = np.dtype([(\"qint8\", np.int8, 1)])\n",
      "c:\\users\\rishi\\documents\\github\\k.a.i\\venv\\lib\\site-packages\\tensorflow\\python\\framework\\dtypes.py:494: FutureWarning: Passing (type, 1) or '1type' as a synonym of type is deprecated; in a future version of numpy, it will be understood as (type, (1,)) / '(1,)type'.\n",
      "  _np_quint8 = np.dtype([(\"quint8\", np.uint8, 1)])\n",
      "c:\\users\\rishi\\documents\\github\\k.a.i\\venv\\lib\\site-packages\\tensorflow\\python\\framework\\dtypes.py:495: FutureWarning: Passing (type, 1) or '1type' as a synonym of type is deprecated; in a future version of numpy, it will be understood as (type, (1,)) / '(1,)type'.\n",
      "  _np_qint16 = np.dtype([(\"qint16\", np.int16, 1)])\n",
      "c:\\users\\rishi\\documents\\github\\k.a.i\\venv\\lib\\site-packages\\tensorflow\\python\\framework\\dtypes.py:496: FutureWarning: Passing (type, 1) or '1type' as a synonym of type is deprecated; in a future version of numpy, it will be understood as (type, (1,)) / '(1,)type'.\n",
      "  _np_quint16 = np.dtype([(\"quint16\", np.uint16, 1)])\n",
      "c:\\users\\rishi\\documents\\github\\k.a.i\\venv\\lib\\site-packages\\tensorflow\\python\\framework\\dtypes.py:497: FutureWarning: Passing (type, 1) or '1type' as a synonym of type is deprecated; in a future version of numpy, it will be understood as (type, (1,)) / '(1,)type'.\n",
      "  _np_qint32 = np.dtype([(\"qint32\", np.int32, 1)])\n",
      "c:\\users\\rishi\\documents\\github\\k.a.i\\venv\\lib\\site-packages\\tensorflow\\python\\framework\\dtypes.py:502: FutureWarning: Passing (type, 1) or '1type' as a synonym of type is deprecated; in a future version of numpy, it will be understood as (type, (1,)) / '(1,)type'.\n",
      "  np_resource = np.dtype([(\"resource\", np.ubyte, 1)])\n"
     ]
    }
   ],
   "source": [
    "from tensorflow.python.keras.preprocessing.text import Tokenizer"
   ]
  },
  {
   "cell_type": "code",
   "execution_count": 9,
   "id": "b62ddeea-2a48-4278-9e9f-56caf94cc796",
   "metadata": {},
   "outputs": [],
   "source": [
    "from tensorflow.python.keras.preprocessing.text import Tokenizer\n",
    "from tensorflow.python.keras.preprocessing.sequence import pad_sequences"
   ]
  },
  {
   "cell_type": "code",
   "execution_count": 10,
   "id": "eea9f336-9864-46b9-8d50-c9bdae41e286",
   "metadata": {},
   "outputs": [],
   "source": [
    "ls = []\n",
    "for c in train_txt:\n",
    "    ls.append(len(c.split()))\n",
    "maxLen=int(np.percentile(ls,98))"
   ]
  },
  {
   "cell_type": "code",
   "execution_count": 11,
   "id": "c9302922-6716-476f-b5b1-2b6cac6af86b",
   "metadata": {},
   "outputs": [],
   "source": [
    "embeddings_index={}\n",
    "with open('glove.6B.100d.txt', encoding='utf8') as f:\n",
    "    for line in f:\n",
    "        values = line.split()\n",
    "        word = values[0]\n",
    "        coefs = np.asarray(values[1:], dtype='float32')\n",
    "        embeddings_index[word] = coefs"
   ]
  },
  {
   "cell_type": "code",
   "execution_count": 12,
   "id": "58844742-e59a-47a4-b977-4288168a8a90",
   "metadata": {},
   "outputs": [
    {
     "name": "stderr",
     "output_type": "stream",
     "text": [
      "c:\\users\\rishi\\documents\\github\\k.a.i\\venv\\lib\\site-packages\\IPython\\core\\interactiveshell.py:3263: FutureWarning: arrays to stack must be passed as a \"sequence\" type such as list or tuple. Support for non-sequence iterables such as generators is deprecated as of NumPy 1.16 and will raise an error in the future.\n",
      "  if (await self.run_code(code, result,  async_=asy)):\n"
     ]
    },
    {
     "data": {
      "text/plain": [
       "(0.004451992, 0.4081574)"
      ]
     },
     "execution_count": 12,
     "metadata": {},
     "output_type": "execute_result"
    }
   ],
   "source": [
    "all_embs = np.stack(embeddings_index.values())\n",
    "emb_mean,emb_std = all_embs.mean(), all_embs.std()\n",
    "emb_mean,emb_std"
   ]
  },
  {
   "cell_type": "code",
   "execution_count": 13,
   "id": "e717c782-e804-4572-900e-59b9b528e75f",
   "metadata": {},
   "outputs": [],
   "source": [
    "max_num_words = 40000\n",
    "embedding_dim=len(embeddings_index['the'])\n",
    "classes = np.unique(labels)\n",
    "\n",
    "tokenizer = Tokenizer(num_words=max_num_words)\n",
    "tokenizer.fit_on_texts(train_txt)\n",
    "\n",
    "train_sequences = tokenizer.texts_to_sequences(train_txt)\n",
    "train_sequences = pad_sequences(train_sequences, maxlen=maxLen, padding='post')\n",
    "test_sequences = tokenizer.texts_to_sequences(test_txt)\n",
    "test_sequences = pad_sequences(test_sequences, maxlen=maxLen, padding='post')\n",
    "word_index = tokenizer.word_index"
   ]
  },
  {
   "cell_type": "code",
   "execution_count": 14,
   "id": "b1437a1c-748f-4207-91b4-4ed3ccab3ab9",
   "metadata": {},
   "outputs": [],
   "source": [
    "num_words = min(max_num_words, len(word_index) )+1\n",
    "embedding_matrix = np.random.normal(emb_mean, emb_std, (num_words, embedding_dim))\n",
    "for word, i in word_index.items():\n",
    "    if i >= max_num_words:\n",
    "        break\n",
    "    embedding_vector = embeddings_index.get(word)\n",
    "    if embedding_vector is not None:\n",
    "        embedding_matrix[i] = embedding_vector"
   ]
  },
  {
   "cell_type": "code",
   "execution_count": 15,
   "id": "e573c8e9-dd07-4da6-96d2-5981f07a598c",
   "metadata": {},
   "outputs": [],
   "source": [
    "num_words = min(max_num_words, len(word_index) )+1\n",
    "embedding_matrix = np.random.normal(emb_mean, emb_std, (num_words, embedding_dim))\n",
    "for word, i in word_index.items():\n",
    "    if i >= max_num_words:\n",
    "        break\n",
    "    embedding_vector = embeddings_index.get(word)\n",
    "    if embedding_vector is not None:\n",
    "        embedding_matrix[i] = embedding_vector"
   ]
  },
  {
   "cell_type": "code",
   "execution_count": 16,
   "id": "b1143206-43cc-457f-b4ab-06bb15c20c3e",
   "metadata": {},
   "outputs": [
    {
     "data": {
      "text/plain": [
       "OneHotEncoder(sparse=False)"
      ]
     },
     "execution_count": 16,
     "metadata": {},
     "output_type": "execute_result"
    }
   ],
   "source": [
    "from sklearn.preprocessing import OneHotEncoder,LabelEncoder\n",
    "\n",
    "label_encoder = LabelEncoder()\n",
    "integer_encoded = label_encoder.fit_transform(classes)\n",
    "\n",
    "onehot_encoder = OneHotEncoder(sparse=False)\n",
    "integer_encoded = integer_encoded.reshape(len(integer_encoded), 1)\n",
    "onehot_encoder.fit(integer_encoded) "
   ]
  },
  {
   "cell_type": "code",
   "execution_count": 17,
   "id": "ba485dfb-c145-4142-a4fc-f163e353b467",
   "metadata": {},
   "outputs": [],
   "source": [
    "train_label_encoded = label_encoder.transform(train_label)\n",
    "train_label_encoded = train_label_encoded.reshape(len(train_label_encoded), 1)\n",
    "train_label = onehot_encoder.transform(train_label_encoded)"
   ]
  },
  {
   "cell_type": "code",
   "execution_count": 18,
   "id": "173a1472-269c-4334-84f6-4dfc8251b90d",
   "metadata": {},
   "outputs": [],
   "source": [
    "test_labels_encoded = label_encoder.transform(test_labels)\n",
    "test_labels_encoded = test_labels_encoded.reshape(len(test_labels_encoded), 1)\n",
    "test_labels = onehot_encoder.transform(test_labels_encoded)"
   ]
  },
  {
   "cell_type": "code",
   "execution_count": 19,
   "id": "d34b926f-402e-44b6-9a3f-5dfb7686802e",
   "metadata": {},
   "outputs": [],
   "source": [
    "from tensorflow.python.keras.models import Sequential\n",
    "from tensorflow.python.keras.layers import Dense, Input, Dropout, LSTM, Activation, Bidirectional, Embedding"
   ]
  },
  {
   "cell_type": "code",
   "execution_count": 20,
   "id": "24f3e7cb-2830-4f36-ba5b-48fb44e1265b",
   "metadata": {},
   "outputs": [
    {
     "name": "stdout",
     "output_type": "stream",
     "text": [
      "WARNING:tensorflow:From c:\\users\\rishi\\documents\\github\\k.a.i\\venv\\lib\\site-packages\\tensorflow\\python\\keras\\_impl\\keras\\backend.py:1456: calling reduce_sum (from tensorflow.python.ops.math_ops) with keep_dims is deprecated and will be removed in a future version.\n",
      "Instructions for updating:\n",
      "keep_dims is deprecated, use keepdims instead\n",
      "_________________________________________________________________\n",
      "Layer (type)                 Output Shape              Param #   \n",
      "=================================================================\n",
      "embedding_1 (Embedding)      (None, 16, 100)           629500    \n",
      "_________________________________________________________________\n",
      "bidirectional_1 (Bidirection (None, None, 512)         731136    \n",
      "_________________________________________________________________\n",
      "dropout_1 (Dropout)          (None, None, 512)         0         \n",
      "_________________________________________________________________\n",
      "lstm_2 (LSTM)                (None, 256)               787456    \n",
      "_________________________________________________________________\n",
      "dropout_2 (Dropout)          (None, 256)               0         \n",
      "_________________________________________________________________\n",
      "dense_1 (Dense)              (None, 50)                12850     \n",
      "_________________________________________________________________\n",
      "dropout_3 (Dropout)          (None, 50)                0         \n",
      "_________________________________________________________________\n",
      "dense_2 (Dense)              (None, 151)               7701      \n",
      "=================================================================\n",
      "Total params: 2,168,643\n",
      "Trainable params: 1,539,143\n",
      "Non-trainable params: 629,500\n",
      "_________________________________________________________________\n"
     ]
    }
   ],
   "source": [
    "model = Sequential()\n",
    "\n",
    "model.add(Embedding(num_words, 100, trainable=False,input_length=train_sequences.shape[1], weights=[embedding_matrix]))\n",
    "model.add(Bidirectional(LSTM(256, return_sequences=True, recurrent_dropout=0.1, dropout=0.1), 'concat'))\n",
    "model.add(Dropout(0.3))\n",
    "model.add(LSTM(256, return_sequences=False, recurrent_dropout=0.1, dropout=0.1))\n",
    "model.add(Dropout(0.3))\n",
    "model.add(Dense(50, activation='relu'))\n",
    "model.add(Dropout(0.3))\n",
    "model.add(Dense(classes.shape[0], activation='softmax'))\n",
    "model.summary()"
   ]
  },
  {
   "cell_type": "code",
   "execution_count": 21,
   "id": "1999309b-5933-4736-9316-00c7124af4ef",
   "metadata": {},
   "outputs": [
    {
     "name": "stdout",
     "output_type": "stream",
     "text": [
      "WARNING:tensorflow:From c:\\users\\rishi\\documents\\github\\k.a.i\\venv\\lib\\site-packages\\tensorflow\\python\\keras\\_impl\\keras\\backend.py:1557: calling reduce_mean (from tensorflow.python.ops.math_ops) with keep_dims is deprecated and will be removed in a future version.\n",
      "Instructions for updating:\n",
      "keep_dims is deprecated, use keepdims instead\n"
     ]
    }
   ],
   "source": [
    "model.compile(loss='categorical_crossentropy', optimizer='adam', metrics=['acc'])"
   ]
  },
  {
   "cell_type": "code",
   "execution_count": 22,
   "id": "fd53833d-021d-483f-b887-b694c51a9c82",
   "metadata": {},
   "outputs": [
    {
     "name": "stdout",
     "output_type": "stream",
     "text": [
      "Train on 16590 samples, validate on 7110 samples\n",
      "Epoch 1/20\n",
      "16590/16590 [==============================]16590/16590 [==============================] - 44s 3ms/step - loss: 4.7503 - acc: 0.0515 - val_loss: 4.0084 - val_acc: 0.0810\n",
      "\n",
      "Epoch 2/20\n",
      "16590/16590 [==============================]16590/16590 [==============================] - 44s 3ms/step - loss: 3.5548 - acc: 0.1367 - val_loss: 2.5766 - val_acc: 0.3056\n",
      "\n",
      "Epoch 3/20\n",
      "16590/16590 [==============================]16590/16590 [==============================] - 45s 3ms/step - loss: 2.5052 - acc: 0.3115 - val_loss: 1.6642 - val_acc: 0.5494\n",
      "\n",
      "Epoch 4/20\n",
      "16590/16590 [==============================]16590/16590 [==============================] - 45s 3ms/step - loss: 1.8426 - acc: 0.4763 - val_loss: 1.1991 - val_acc: 0.6661\n",
      "\n",
      "Epoch 5/20\n",
      "16590/16590 [==============================]16590/16590 [==============================] - 46s 3ms/step - loss: 1.4455 - acc: 0.5835 - val_loss: 0.9534 - val_acc: 0.7322\n",
      "\n",
      "Epoch 6/20\n",
      "16590/16590 [==============================]16590/16590 [==============================] - 46s 3ms/step - loss: 1.1631 - acc: 0.6671 - val_loss: 0.8109 - val_acc: 0.7795\n",
      "\n",
      "Epoch 7/20\n",
      "16590/16590 [==============================]16590/16590 [==============================] - 46s 3ms/step - loss: 0.9559 - acc: 0.7266 - val_loss: 0.7264 - val_acc: 0.7916\n",
      "\n",
      "Epoch 8/20\n",
      "16590/16590 [==============================]16590/16590 [==============================] - 46s 3ms/step - loss: 0.8197 - acc: 0.7676 - val_loss: 0.6404 - val_acc: 0.8273\n",
      "\n",
      "Epoch 9/20\n",
      "16590/16590 [==============================]16590/16590 [==============================] - 46s 3ms/step - loss: 0.7120 - acc: 0.7968 - val_loss: 0.6028 - val_acc: 0.8377\n",
      "\n",
      "Epoch 10/20\n",
      "16590/16590 [==============================]16590/16590 [==============================] - 46s 3ms/step - loss: 0.6327 - acc: 0.8172 - val_loss: 0.5823 - val_acc: 0.8477\n",
      "\n",
      "Epoch 11/20\n",
      "16590/16590 [==============================]16590/16590 [==============================] - 46s 3ms/step - loss: 0.5657 - acc: 0.8392 - val_loss: 0.5312 - val_acc: 0.8571\n",
      "\n",
      "Epoch 12/20\n",
      "16590/16590 [==============================]16590/16590 [==============================] - 47s 3ms/step - loss: 0.4991 - acc: 0.8584 - val_loss: 0.5507 - val_acc: 0.8626\n",
      "\n",
      "Epoch 13/20\n",
      "16590/16590 [==============================]16590/16590 [==============================] - 46s 3ms/step - loss: 0.4621 - acc: 0.8706 - val_loss: 0.5115 - val_acc: 0.8706\n",
      "\n",
      "Epoch 14/20\n",
      "16590/16590 [==============================]16590/16590 [==============================] - 46s 3ms/step - loss: 0.4222 - acc: 0.8803 - val_loss: 0.5487 - val_acc: 0.8682\n",
      "\n",
      "Epoch 15/20\n",
      "16590/16590 [==============================]16590/16590 [==============================] - 47s 3ms/step - loss: 0.3955 - acc: 0.8888 - val_loss: 0.5186 - val_acc: 0.8737\n",
      "\n",
      "Epoch 16/20\n",
      "16590/16590 [==============================]16590/16590 [==============================] - 47s 3ms/step - loss: 0.3510 - acc: 0.9006 - val_loss: 0.4907 - val_acc: 0.8841\n",
      "\n",
      "Epoch 17/20\n",
      "16590/16590 [==============================]16590/16590 [==============================] - 47s 3ms/step - loss: 0.3327 - acc: 0.9071 - val_loss: 0.4915 - val_acc: 0.8861\n",
      "\n",
      "Epoch 18/20\n",
      "16590/16590 [==============================]16590/16590 [==============================] - 47s 3ms/step - loss: 0.3095 - acc: 0.9124 - val_loss: 0.5048 - val_acc: 0.8904\n",
      "\n",
      "Epoch 19/20\n",
      "16590/16590 [==============================]16590/16590 [==============================] - 49s 3ms/step - loss: 0.2838 - acc: 0.9208 - val_loss: 0.4934 - val_acc: 0.8930\n",
      "\n",
      "Epoch 20/20\n",
      "16590/16590 [==============================]16590/16590 [==============================] - 50s 3ms/step - loss: 0.2508 - acc: 0.9295 - val_loss: 0.4920 - val_acc: 0.8959\n",
      "\n"
     ]
    }
   ],
   "source": [
    "history = model.fit(train_sequences, train_label, epochs = 20,\n",
    "                   batch_size = 64, shuffle=True,\n",
    "                   validation_data=[test_sequences, test_labels])"
   ]
  },
  {
   "cell_type": "code",
   "execution_count": 23,
   "id": "de966b74-678a-47a7-918e-f546008c2697",
   "metadata": {},
   "outputs": [],
   "source": [
    "import matplotlib.pyplot as plt\n",
    "%matplotlib inline"
   ]
  },
  {
   "cell_type": "code",
   "execution_count": 24,
   "id": "5885aa67-ae7e-44a3-bf61-2ef5db0225ed",
   "metadata": {},
   "outputs": [
    {
     "data": {
      "image/png": "[encoded data removed]",
      "text/plain": [
       "<Figure size 432x288 with 1 Axes>"
      ]
     },
     "metadata": {
      "needs_background": "light"
     },
     "output_type": "display_data"
    }
   ],
   "source": [
    "plt.plot(history.history['acc'])\n",
    "plt.plot(history.history['val_acc'])\n",
    "plt.title('Model Accuracy')\n",
    "plt.ylabel('Accuracy')\n",
    "plt.xlabel('Epoch')\n",
    "plt.legend(['Train', 'Validation'], loc='upper left')\n",
    "plt.show()"
   ]
  },
  {
   "cell_type": "code",
   "execution_count": 25,
   "id": "6f89c3e5-13ae-4ef3-b64c-9e9d2008b010",
   "metadata": {},
   "outputs": [
    {
     "data": {
      "image/png": "[encoded data removed]",
      "text/plain": [
       "<Figure size 432x288 with 1 Axes>"
      ]
     },
     "metadata": {
      "needs_background": "light"
     },
     "output_type": "display_data"
    }
   ],
   "source": [
    "plt.plot(history.history['loss'])\n",
    "plt.plot(history.history['val_loss'])\n",
    "plt.title('Model Loss')\n",
    "plt.ylabel('Loss')\n",
    "plt.xlabel('Epoch')\n",
    "plt.legend(['Train', 'Validation'], loc='upper left')\n",
    "plt.show()"
   ]
  },
  {
   "cell_type": "code",
   "execution_count": 26,
   "id": "cffc6828-4c17-4a0b-94f7-d7a61e503af9",
   "metadata": {},
   "outputs": [],
   "source": [
    "import pickle\n",
    "import json"
   ]
  },
  {
   "cell_type": "code",
   "execution_count": 27,
   "id": "7cab0bc7-e3a2-4f24-a772-4a07e87aae6f",
   "metadata": {},
   "outputs": [],
   "source": [
    "model.save('models/intents.h5')\n",
    "\n",
    "with open('utils/classes.pkl','wb') as file:\n",
    "    pickle.dump(classes, file)\n",
    "with open('utils/tokenizer.pkl','wb') as file:\n",
    "    pickle.dump(tokenizer, file)\n",
    "with open('utils/label_encoder.pkl','wb') as file:\n",
    "    pickle.dump(label_encoder, file)"
   ]
  },
  {
   "cell_type": "code",
   "execution_count": 28,
   "id": "bb30b5d4-d3e3-43ca-ae30-0c21ac2284ac",
   "metadata": {},
   "outputs": [],
   "source": [
    "class IntentClassifier:\n",
    "    def __init__(self,classes,model,tokenizer,label_encoder):\n",
    "        self.classes = classes\n",
    "        self.classifier = model\n",
    "        self.tokenizer = tokenizer\n",
    "        self.label_encoder = label_encoder\n",
    "\n",
    "    def get_intent(self,text):\n",
    "        self.text = [text]\n",
    "        self.test_keras = self.tokenizer.texts_to_sequences(self.text)\n",
    "        self.test_keras_sequence = pad_sequences(self.test_keras, maxlen=16, padding='post')\n",
    "        self.pred = self.classifier.predict(self.test_keras_sequence)\n",
    "        return label_encoder.inverse_transform(np.argmax(self.pred,1))[0]\n",
    "     "
   ]
  },
  {
   "cell_type": "code",
   "execution_count": 29,
   "id": "aee27eb1-0ca2-4de7-92e7-18e78f45413b",
   "metadata": {},
   "outputs": [],
   "source": [
    "import pickle\n",
    "\n",
    "from tensorflow.python.keras.models import load_model\n",
    "\n",
    "model = load_model('models/intents.h5')\n",
    "\n",
    "with open ('utils/classes.pkl','rb') as file:\n",
    "    classes = pickle.load(file)\n",
    "\n",
    "with open('utils/tokenizer.pkl','rb') as file:\n",
    "    tokenizer = pickle.load(file)\n",
    "\n",
    "with open('utils/label_encoder.pkl','rb') as file:\n",
    "    label_encoder = pickle.load(file)"
   ]
  },
  {
   "cell_type": "code",
   "execution_count": 30,
   "id": "8e43fd40-bba8-4688-8919-301098cc120f",
   "metadata": {},
   "outputs": [],
   "source": [
    "import pickle\n",
    "\n",
    "from tensorflow.python.keras.models import load_model\n",
    "model = load_model('models/intents.h5')\n",
    "\n",
    "with open('utils/classes.pkl','rb') as file:\n",
    "  classes = pickle.load(file)\n",
    "\n",
    "with open('utils/tokenizer.pkl','rb') as file:\n",
    "  tokenizer = pickle.load(file)\n",
    "\n",
    "with open('utils/label_encoder.pkl','rb') as file:\n",
    "  label_encoder = pickle.load(file)"
   ]
  },
  {
   "cell_type": "code",
   "execution_count": 31,
   "id": "91a32ff1-008a-4c39-9c1b-eebffa010c6f",
   "metadata": {},
   "outputs": [],
   "source": [
    "nlu = IntentClassifier(classes,model,tokenizer,label_encoder)"
   ]
  },
  {
   "cell_type": "code",
   "execution_count": 32,
   "id": "addd97fc-59bf-4345-8cd6-4b6e6398e4f7",
   "metadata": {},
   "outputs": [
    {
     "data": {
      "text/plain": [
       "'weather'"
      ]
     },
     "execution_count": 32,
     "metadata": {},
     "output_type": "execute_result"
    }
   ],
   "source": [
    "nlu.get_intent(\"Is it cold in india\")"
   ]
  },
  {
   "cell_type": "code",
   "execution_count": null,
   "id": "de0f2260-176d-44e6-b15f-24228340de47",
   "metadata": {},
   "outputs": [],
   "source": []
  },
  {
   "cell_type": "code",
   "execution_count": null,
   "id": "7c3291d7-9c2c-486d-af5f-e651d657870f",
   "metadata": {},
   "outputs": [],
   "source": []
  }
 ],
 "metadata": {
  "kernelspec": {
   "display_name": "Python 3",
   "language": "python",
   "name": "python3"
  },
  "language_info": {
   "codemirror_mode": {
    "name": "ipython",
    "version": 3
   },
   "file_extension": ".py",
   "mimetype": "text/x-python",
   "name": "python",
   "nbconvert_exporter": "python",
   "pygments_lexer": "ipython3",
   "version": "3.6.4"
  }
 },
 "nbformat": 4,
 "nbformat_minor": 5
}
